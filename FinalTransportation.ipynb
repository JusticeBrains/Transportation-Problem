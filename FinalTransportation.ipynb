{
 "cells": [
  {
   "cell_type": "code",
   "execution_count": 1,
   "metadata": {},
   "outputs": [],
   "source": [
    "import numpy as np"
   ]
  },
  {
   "cell_type": "code",
   "execution_count": 2,
   "metadata": {},
   "outputs": [],
   "source": [
    "def get_balanced_transportation_problem(supply, demand, costs):\n",
    "    total_supply = sum(supply)\n",
    "    total_demand = sum(demand)\n",
    "    \n",
    "    if total_supply < total_demand:\n",
    "        new_supply = supply + [total_demand - total_supply]\n",
    "        new_costs = costs \n",
    "        return new_supply, demand, new_costs\n",
    "    if total_supply > total_demand:\n",
    "        new_demand = demand + [total_supply - total_demand]\n",
    "        new_costs = costs + [[0 for _ in demand]]\n",
    "        return supply, new_demand, new_costs\n",
    "    return supply, demand, costs"
   ]
  },
  {
   "cell_type": "code",
   "execution_count": 3,
   "metadata": {},
   "outputs": [],
   "source": [
    "def userCostInput():\n",
    "    sp_row = int(input('Enter length row value'))\n",
    "    dm_column = int(input('Enter length column value'))\n",
    "    userCostInput.costs = [[int(input()) for x in range(dm_column)] for y in range(sp_row)]\n",
    "\n",
    "def userSupplyAndDemand():\n",
    "    supply = int(input(\"Enter the length of supply values\"))\n",
    "    demand = int(input(\"Enter the length of demand values\"))\n",
    "    userSupplyAndDemand.Supply = [int(input(\"Enter Supply values: \")) for x in range(supply)]\n",
    "    userSupplyAndDemand.Demand = [int(input(\"Enter Demand values: \")) for x in range(demand)]\n",
    "\n"
   ]
  },
  {
   "cell_type": "code",
   "execution_count": 4,
   "metadata": {},
   "outputs": [],
   "source": [
    "userCostInput()"
   ]
  },
  {
   "cell_type": "code",
   "execution_count": 5,
   "metadata": {},
   "outputs": [
    {
     "data": {
      "text/plain": "[[8, 5, 6], [15, 10, 12], [3, 9, 10]]"
     },
     "execution_count": 5,
     "metadata": {},
     "output_type": "execute_result"
    }
   ],
   "source": [
    "costs = userCostInput.costs\n",
    "costs"
   ]
  },
  {
   "cell_type": "code",
   "execution_count": 6,
   "metadata": {},
   "outputs": [],
   "source": [
    "userSupplyAndDemand()"
   ]
  },
  {
   "cell_type": "code",
   "execution_count": 7,
   "metadata": {},
   "outputs": [
    {
     "name": "stdout",
     "output_type": "stream",
     "text": [
      "[120, 80, 80]\n",
      "[150, 70, 60]\n"
     ]
    }
   ],
   "source": [
    "model_supply = userSupplyAndDemand.Supply\n",
    "model_demand = userSupplyAndDemand.Demand\n",
    "print(model_supply)\n",
    "print(model_demand)"
   ]
  },
  {
   "cell_type": "code",
   "execution_count": 9,
   "metadata": {},
   "outputs": [
    {
     "data": {
      "text/plain": "([120, 80, 80], [150, 70, 60], [[8, 5, 6], [15, 10, 12], [3, 9, 10]])"
     },
     "execution_count": 9,
     "metadata": {},
     "output_type": "execute_result"
    }
   ],
   "source": [
    "get_balanced_transportation_problem(model_supply,model_demand,costs)"
   ]
  },
  {
   "cell_type": "code",
   "execution_count": null,
   "metadata": {},
   "outputs": [],
   "source": []
  },
  {
   "cell_type": "markdown",
   "metadata": {},
   "source": [
    "## NorthWest Corner Method"
   ]
  },
  {
   "cell_type": "code",
   "execution_count": 10,
   "metadata": {},
   "outputs": [],
   "source": [
    "def north_west_corner(model_supply, model_demand):\n",
    "    supply_copy = model_supply.copy()\n",
    "    demand_copy = model_demand.copy()\n",
    "    i = 0\n",
    "    j = 0\n",
    "    bfs = []\n",
    "    while len(bfs) < len(model_supply) + len(model_demand) - 1:\n",
    "        s = supply_copy[i]\n",
    "        d = demand_copy[j]\n",
    "        v = min(s, d)\n",
    "        supply_copy[i] -= v\n",
    "        demand_copy[j] -= v\n",
    "        bfs.append(((i, j), v))\n",
    "        if supply_copy[i] == 0 and i < len(model_supply) - 1:\n",
    "            i += 1\n",
    "        elif demand_copy[j] == 0 and j < len(model_demand) - 1:\n",
    "            j += 1\n",
    "    return bfs"
   ]
  },
  {
   "cell_type": "code",
   "execution_count": 11,
   "metadata": {},
   "outputs": [
    {
     "name": "stdout",
     "output_type": "stream",
     "text": [
      "[((0, 0), 120), ((1, 0), 30), ((1, 1), 50), ((2, 1), 20), ((2, 2), 60)]\n"
     ]
    }
   ],
   "source": [
    "bfs = north_west_corner(model_supply, model_demand)\n",
    "print(bfs)"
   ]
  },
  {
   "cell_type": "markdown",
   "metadata": {},
   "source": [
    "## Stepping Stone"
   ]
  },
  {
   "cell_type": "code",
   "execution_count": 12,
   "metadata": {},
   "outputs": [],
   "source": [
    "def get_us_and_vs(bfs, costs):\n",
    "    us = [None] * len(costs)\n",
    "    vs = [None] * len(costs[0])\n",
    "    us[0] = 0\n",
    "    bfs_copy = bfs.copy()\n",
    "    while len(bfs_copy) > 0:\n",
    "        for index, bv in enumerate(bfs_copy):\n",
    "            i, j = bv[0]\n",
    "            if us[i] is None and vs[j] is None: continue\n",
    "                \n",
    "            cost = costs[i][j]\n",
    "            if us[i] is None:\n",
    "                us[i] = cost - vs[j]\n",
    "            else: \n",
    "                vs[j] = cost - us[i]\n",
    "            bfs_copy.pop(index)\n",
    "            break\n",
    "            \n",
    "    return us, vs "
   ]
  },
  {
   "cell_type": "code",
   "execution_count": 13,
   "metadata": {},
   "outputs": [],
   "source": [
    "def get_ws(bfs, costs, us, vs):\n",
    "    ws = []\n",
    "    for i, row in enumerate(costs):\n",
    "        for j, cost in enumerate(row):\n",
    "            non_basic = all([p[0] != i or p[1] != j for p, v in bfs])\n",
    "            if non_basic:\n",
    "                ws.append(((i, j), us[i] + vs[j] - cost))\n",
    "    \n",
    "    return ws"
   ]
  },
  {
   "cell_type": "code",
   "execution_count": 14,
   "metadata": {},
   "outputs": [],
   "source": [
    "def can_be_improved(ws):\n",
    "    for p, v in ws:\n",
    "        if v > 0: return True\n",
    "    return False"
   ]
  },
  {
   "cell_type": "code",
   "execution_count": 15,
   "metadata": {},
   "outputs": [],
   "source": [
    "def get_entering_variable_position(ws):\n",
    "    ws_copy = ws.copy()\n",
    "    ws_copy.sort(key=lambda w: w[1])\n",
    "    return ws_copy[-1][0]"
   ]
  },
  {
   "cell_type": "code",
   "execution_count": 16,
   "metadata": {},
   "outputs": [],
   "source": [
    "def get_possible_next_nodes(loop, not_visited):\n",
    "    last_node = loop[-1]\n",
    "    nodes_in_row = [n for n in not_visited if n[0] == last_node[0]]\n",
    "    nodes_in_column = [n for n in not_visited if n[1] == last_node[1]]\n",
    "    if len(loop) < 2:\n",
    "        return nodes_in_row + nodes_in_column\n",
    "    else:\n",
    "        prev_node = loop[-2]\n",
    "        row_move = prev_node[0] == last_node[0]\n",
    "        if row_move: return nodes_in_column\n",
    "        return nodes_in_row"
   ]
  },
  {
   "cell_type": "code",
   "execution_count": 17,
   "metadata": {},
   "outputs": [],
   "source": [
    "def get_loop(bv_positions, ev_position):\n",
    "    def inner(loop):\n",
    "        if len(loop) > 3:\n",
    "            can_be_closed = len(get_possible_next_nodes(loop, [ev_position])) == 1\n",
    "            if can_be_closed: return loop\n",
    "        \n",
    "        not_visited = list(set(bv_positions) - set(loop))\n",
    "        possible_next_nodes = get_possible_next_nodes(loop, not_visited)\n",
    "        for next_node in possible_next_nodes:\n",
    "            new_loop = inner(loop + [next_node])\n",
    "            if new_loop: return new_loop\n",
    "    \n",
    "    return inner([ev_position])"
   ]
  },
  {
   "cell_type": "code",
   "execution_count": 18,
   "metadata": {},
   "outputs": [],
   "source": [
    "def loop_pivoting(bfs, loop):\n",
    "    even_cells = loop[0::2]\n",
    "    odd_cells = loop[1::2]\n",
    "    get_bv = lambda pos: next(v for p, v in bfs if p == pos)\n",
    "    leaving_position = sorted(odd_cells, key=get_bv)[0]\n",
    "    leaving_value = get_bv(leaving_position)\n",
    "    \n",
    "    new_bfs = []\n",
    "    for p, v in [bv for bv in bfs if bv[0] != leaving_position] + [(loop[0], 0)]:\n",
    "        if p in even_cells:\n",
    "            v += leaving_value\n",
    "        elif p in odd_cells:\n",
    "            v -= leaving_value\n",
    "        new_bfs.append((p, v))\n",
    "        \n",
    "    return new_bfs"
   ]
  },
  {
   "cell_type": "code",
   "execution_count": 19,
   "metadata": {},
   "outputs": [],
   "source": [
    "def transportation_simplex_method(supply, demand, costs):\n",
    "    balanced_supply, balanced_demand, balanced_costs = get_balanced_transportation_problem(\n",
    "        model_supply, model_demand, costs\n",
    "    )\n",
    "    def inner(bfs):\n",
    "        us, vs = get_us_and_vs(bfs, balanced_costs)\n",
    "        ws = get_ws(bfs, balanced_costs, us, vs)\n",
    "        if can_be_improved(ws):\n",
    "            ev_position = get_entering_variable_position(ws)\n",
    "            loop = get_loop([p for p, v in bfs], ev_position)\n",
    "            return inner(loop_pivoting(bfs, loop))\n",
    "        return bfs\n",
    "    \n",
    "    basic_variables = inner(north_west_corner(balanced_supply, balanced_demand))\n",
    "    solution = np.zeros((len(costs), len(costs[0])))\n",
    "    for (i, j), v in basic_variables:\n",
    "        solution[i][j] = v\n",
    "\n",
    "    return solution"
   ]
  },
  {
   "cell_type": "code",
   "execution_count": 20,
   "metadata": {},
   "outputs": [],
   "source": [
    "def get_total_cost(costs, solution):\n",
    "    total_cost = 0\n",
    "    for i, row in enumerate(costs):\n",
    "        for j, cost in enumerate(row):\n",
    "            total_cost += cost * solution[i][j]\n",
    "    return total_cost"
   ]
  },
  {
   "cell_type": "code",
   "execution_count": 21,
   "metadata": {},
   "outputs": [
    {
     "name": "stdout",
     "output_type": "stream",
     "text": [
      "[[70.  0. 50.]\n",
      " [ 0. 70. 10.]\n",
      " [80.  0.  0.]]\n",
      "total cost:  1920.0\n"
     ]
    }
   ],
   "source": [
    "solution = transportation_simplex_method(model_supply, model_demand, costs)\n",
    "print(solution)\n",
    "print('total cost: ', get_total_cost(costs, solution))"
   ]
  }
 ],
 "metadata": {
  "kernelspec": {
   "display_name": "Python 3.9.2 64-bit",
   "name": "python392jvsc74a57bd031f2aee4e71d21fbe5cf8b01ff0e069b9275f58929596ceb00d14d90e3e16cd6"
  },
  "language_info": {
   "name": "python",
   "version": ""
  },
  "orig_nbformat": 2
 },
 "nbformat": 4,
 "nbformat_minor": 2
}