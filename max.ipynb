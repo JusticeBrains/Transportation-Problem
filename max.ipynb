{
 "cells": [
  {
   "cell_type": "code",
   "execution_count": 5,
   "metadata": {},
   "outputs": [],
   "source": [
    "import numpy as np"
   ]
  },
  {
   "cell_type": "code",
   "execution_count": 6,
   "metadata": {},
   "outputs": [],
   "source": [
    "# supply_row = int(input(\"Enter the number of rows for the cost\"))\n",
    "# demand_column = int(input(\"Enter the number of columns for the cost\"))\n",
    "\n",
    "# cost = list(map(int, input().split()))\n",
    "\n",
    "# costs = np.array(cost).reshape(supply_row, demand_column)"
   ]
  },
  {
   "cell_type": "code",
   "execution_count": 7,
   "metadata": {},
   "outputs": [],
   "source": [
    "def userCostInput():\n",
    "    sp_row = int(input('Enter length row value'))\n",
    "    dm_column = int(input('Enter length column value'))\n",
    "    userCostInput.costs = [[int(input()) for x in range(dm_column)] for y in range(sp_row)]\n",
    "\n",
    "def userSupplyAndDemand():\n",
    "    supply = int(input(\"Enter the length of supply values\"))\n",
    "    demand = int(input(\"Enter the length of demand values\"))\n",
    "    userSupplyAndDemand.Supply = [int(input(\"Enter Supply values: \")) for x in range(supply)]\n",
    "    userSupplyAndDemand.Demand = [int(input(\"Enter Demand values: \")) for x in range(demand)]\n",
    "\n"
   ]
  },
  {
   "cell_type": "code",
   "execution_count": 8,
   "metadata": {},
   "outputs": [],
   "source": [
    "userCostInput()"
   ]
  },
  {
   "cell_type": "code",
   "execution_count": 9,
   "metadata": {},
   "outputs": [
    {
     "data": {
      "text/plain": "[[10, 8, 9], [5, 2, 3], [6, 7, 4], [7, 6, 9]]"
     },
     "execution_count": 9,
     "metadata": {},
     "output_type": "execute_result"
    }
   ],
   "source": [
    "costs = userCostInput.costs\n",
    "costs"
   ]
  },
  {
   "cell_type": "code",
   "execution_count": 10,
   "metadata": {},
   "outputs": [],
   "source": [
    "userSupplyAndDemand()"
   ]
  },
  {
   "cell_type": "code",
   "execution_count": 11,
   "metadata": {},
   "outputs": [
    {
     "name": "stdout",
     "output_type": "stream",
     "text": [
      "[15, 20, 30, 35]\n",
      "[25, 26, 49]\n"
     ]
    }
   ],
   "source": [
    "model_supply = userSupplyAndDemand.Supply\n",
    "model_demand = userSupplyAndDemand.Demand\n",
    "print(model_supply)\n",
    "print(model_demand)"
   ]
  },
  {
   "cell_type": "code",
   "execution_count": null,
   "metadata": {},
   "outputs": [],
   "source": []
  },
  {
   "cell_type": "code",
   "execution_count": 12,
   "metadata": {},
   "outputs": [],
   "source": [
    "cost = None\n",
    "def verify_problem(costs):\n",
    "    global cost\n",
    "    # making the costs metrix a numpy array\n",
    "    array = np.array(costs)\n",
    "    maxVal = np.max(costs)\n",
    "    array = maxVal - array\n",
    "    verify_problem.cost = array.tolist()\n",
    "    print(f'New Cost: {verify_problem.cost}')\n",
    "    # new = get_balanced_transportation_problem(supply, demand, verify_problem.cost)\n",
    "    new_costs = verify_problem.cost\n",
    "    return new_costs"
   ]
  },
  {
   "cell_type": "code",
   "execution_count": 13,
   "metadata": {},
   "outputs": [
    {
     "name": "stdout",
     "output_type": "stream",
     "text": [
      "New Cost: [[0, 2, 1], [5, 8, 7], [4, 3, 6], [3, 4, 1]]\n"
     ]
    }
   ],
   "source": [
    "Costs = verify_problem(costs)"
   ]
  },
  {
   "cell_type": "code",
   "execution_count": 14,
   "metadata": {},
   "outputs": [],
   "source": [
    "def get_balanced_transportation_problem(model_supply,model_demand, Costs):\n",
    "    total_supply = sum(model_supply)\n",
    "    total_demand = sum(model_demand)\n",
    "    \n",
    "    if total_supply < total_demand:\n",
    "        new_supply = model_supply + [total_demand - total_supply]\n",
    "        new_costs = Costs \n",
    "        return new_supply, model_demand, new_costs\n",
    "    if total_supply > total_demand:\n",
    "        new_demand = model_demand + [total_supply - total_demand]\n",
    "        new_costs = Costs + [[0 for _ in model_demand]]\n",
    "        return model_supply, new_demand, new_costs\n",
    "    return model_supply, model_demand, Costs"
   ]
  },
  {
   "cell_type": "code",
   "execution_count": 15,
   "metadata": {},
   "outputs": [
    {
     "data": {
      "text/plain": "([15, 20, 30, 35], [25, 26, 49], [[0, 2, 1], [5, 8, 7], [4, 3, 6], [3, 4, 1]])"
     },
     "execution_count": 15,
     "metadata": {},
     "output_type": "execute_result"
    }
   ],
   "source": [
    "balanced_model = get_balanced_transportation_problem(model_supply, model_demand, Costs)\n",
    "balanced_model"
   ]
  },
  {
   "cell_type": "code",
   "execution_count": 16,
   "metadata": {},
   "outputs": [],
   "source": [
    "def north_west_corner(model_supply, model_demand):\n",
    "    supply_copy = model_supply.copy()\n",
    "    demand_copy = model_demand.copy()\n",
    "    i = 0\n",
    "    j = 0\n",
    "    bfs = []\n",
    "    while len(bfs) < len(model_supply) + len(model_demand) - 1:\n",
    "        s = supply_copy[i]\n",
    "        d = demand_copy[j]\n",
    "        v = min(s, d)\n",
    "        supply_copy[i] -= v\n",
    "        demand_copy[j] -= v\n",
    "        bfs.append(((i, j), v))\n",
    "        if supply_copy[i] == 0 and i < len(model_supply) - 1:\n",
    "            i += 1\n",
    "        elif demand_copy[j] == 0 and j < len(model_demand) - 1:\n",
    "            j += 1\n",
    "    return bfs"
   ]
  },
  {
   "cell_type": "code",
   "execution_count": 17,
   "metadata": {},
   "outputs": [
    {
     "name": "stdout",
     "output_type": "stream",
     "text": [
      "[((0, 0), 15), ((1, 0), 10), ((1, 1), 10), ((2, 1), 16), ((2, 2), 14), ((3, 2), 35)]\n"
     ]
    }
   ],
   "source": [
    "bfs = north_west_corner(model_supply,model_demand)\n",
    "print(bfs)"
   ]
  },
  {
   "cell_type": "code",
   "execution_count": 18,
   "metadata": {},
   "outputs": [],
   "source": [
    "def get_us_and_vs(bfs, Costs):\n",
    "    us = [None] * len(Costs)\n",
    "    vs = [None] * len(Costs[0])\n",
    "    us[0] = 0\n",
    "    bfs_copy = bfs.copy()\n",
    "    while len(bfs_copy) > 0:\n",
    "        for index, bv in enumerate(bfs_copy):\n",
    "            i, j = bv[0]\n",
    "            if us[i] is None and vs[j] is None: continue\n",
    "                \n",
    "            cost = Costs[i][j]\n",
    "            if us[i] is None:\n",
    "                us[i] = cost - vs[j]\n",
    "            else: \n",
    "                vs[j] = cost - us[i]\n",
    "            bfs_copy.pop(index)\n",
    "            break\n",
    "            \n",
    "    return us, vs "
   ]
  },
  {
   "cell_type": "code",
   "execution_count": 19,
   "metadata": {},
   "outputs": [],
   "source": [
    "def get_ws(bfs, Costs, us, vs):\n",
    "    ws = []\n",
    "    for i, row in enumerate(Costs):\n",
    "        for j, cost in enumerate(row):\n",
    "            non_basic = all([p[0] != i or p[1] != j for p, v in bfs])\n",
    "            if non_basic:\n",
    "                ws.append(((i, j), us[i] + vs[j] - cost))\n",
    "    \n",
    "    return ws"
   ]
  },
  {
   "cell_type": "code",
   "execution_count": 20,
   "metadata": {},
   "outputs": [],
   "source": [
    "def can_be_improved(ws):\n",
    "    for p, v in ws:\n",
    "        if v > 0: return True\n",
    "    return False"
   ]
  },
  {
   "cell_type": "code",
   "execution_count": 21,
   "metadata": {},
   "outputs": [],
   "source": [
    "def get_entering_variable_position(ws):\n",
    "    ws_copy = ws.copy()\n",
    "    ws_copy.sort(key=lambda w: w[1])\n",
    "    return ws_copy[-1][0]"
   ]
  },
  {
   "cell_type": "code",
   "execution_count": 22,
   "metadata": {},
   "outputs": [],
   "source": [
    "def get_possible_next_nodes(loop, not_visited):\n",
    "    last_node = loop[-1]\n",
    "    nodes_in_row = [n for n in not_visited if n[0] == last_node[0]]\n",
    "    nodes_in_column = [n for n in not_visited if n[1] == last_node[1]]\n",
    "    if len(loop) < 2:\n",
    "        return nodes_in_row + nodes_in_column\n",
    "    else:\n",
    "        prev_node = loop[-2]\n",
    "        row_move = prev_node[0] == last_node[0]\n",
    "        if row_move: return nodes_in_column\n",
    "        return nodes_in_row"
   ]
  },
  {
   "cell_type": "code",
   "execution_count": 23,
   "metadata": {},
   "outputs": [],
   "source": [
    "def get_loop(bv_positions, ev_position):\n",
    "    def inner(loop):\n",
    "        if len(loop) > 3:\n",
    "            can_be_closed = len(get_possible_next_nodes(loop, [ev_position])) == 1\n",
    "            if can_be_closed: return loop\n",
    "        \n",
    "        not_visited = list(set(bv_positions) - set(loop))\n",
    "        possible_next_nodes = get_possible_next_nodes(loop, not_visited)\n",
    "        for next_node in possible_next_nodes:\n",
    "            new_loop = inner(loop + [next_node])\n",
    "            if new_loop: return new_loop\n",
    "    \n",
    "    return inner([ev_position])"
   ]
  },
  {
   "cell_type": "code",
   "execution_count": 24,
   "metadata": {},
   "outputs": [],
   "source": [
    "def loop_pivoting(bfs, loop):\n",
    "    even_cells = loop[0::2]\n",
    "    odd_cells = loop[1::2]\n",
    "    get_bv = lambda pos: next(v for p, v in bfs if p == pos)\n",
    "    leaving_position = sorted(odd_cells, key=get_bv)[0]\n",
    "    leaving_value = get_bv(leaving_position)\n",
    "    \n",
    "    new_bfs = []\n",
    "    for p, v in [bv for bv in bfs if bv[0] != leaving_position] + [(loop[0], 0)]:\n",
    "        if p in even_cells:\n",
    "            v += leaving_value\n",
    "        elif p in odd_cells:\n",
    "            v -= leaving_value\n",
    "        new_bfs.append((p, v))\n",
    "        \n",
    "    return new_bfs"
   ]
  },
  {
   "cell_type": "code",
   "execution_count": 25,
   "metadata": {},
   "outputs": [],
   "source": [
    "def transportation_stepping_stone(model_supply, model_demand, Costs):\n",
    "    balanced_supply, balanced_demand, balanced_costs = get_balanced_transportation_problem(\n",
    "        model_supply, model_demand, Costs\n",
    "    )\n",
    "    def inner(bfs):\n",
    "        us, vs = get_us_and_vs(bfs, balanced_costs)\n",
    "        ws = get_ws(bfs, balanced_costs, us, vs)\n",
    "        if can_be_improved(ws):\n",
    "            ev_position = get_entering_variable_position(ws)\n",
    "            loop = get_loop([p for p, v in bfs], ev_position)\n",
    "            return inner(loop_pivoting(bfs, loop))\n",
    "        return bfs\n",
    "    \n",
    "    basic_variables = inner(north_west_corner(balanced_supply, balanced_demand))\n",
    "    solution = np.zeros((len(Costs), len(Costs[0])))\n",
    "    for (i, j), v in basic_variables:\n",
    "        solution[i][j] = v\n",
    "\n",
    "    return solution"
   ]
  },
  {
   "cell_type": "code",
   "execution_count": 26,
   "metadata": {},
   "outputs": [
    {
     "data": {
      "text/plain": "[[0, 2, 1], [5, 8, 7], [4, 3, 6], [3, 4, 1]]"
     },
     "execution_count": 26,
     "metadata": {},
     "output_type": "execute_result"
    }
   ],
   "source": [
    "Costs"
   ]
  },
  {
   "cell_type": "code",
   "execution_count": 27,
   "metadata": {},
   "outputs": [],
   "source": [
    "def get_total_cost(Costs, solution):\n",
    "    total_cost = 0\n",
    "    for i, row in enumerate(Costs):\n",
    "        for j, cost in enumerate(row):\n",
    "            total_cost += cost * solution[i][j]\n",
    "    return total_cost"
   ]
  },
  {
   "cell_type": "code",
   "execution_count": 28,
   "metadata": {},
   "outputs": [
    {
     "name": "stdout",
     "output_type": "stream",
     "text": [
      "[[ 1.  0. 14.]\n",
      " [20.  0.  0.]\n",
      " [ 4. 26.  0.]\n",
      " [ 0.  0. 35.]]\n",
      "total cost:  243.0\n"
     ]
    }
   ],
   "source": [
    "solution = transportation_stepping_stone(model_supply, model_demand, Costs)\n",
    "print(solution)\n",
    "print('total cost: ', get_total_cost(Costs, solution))"
   ]
  }
 ],
 "metadata": {
  "kernelspec": {
   "display_name": "Python 3.9.2 64-bit",
   "name": "python392jvsc74a57bd031f2aee4e71d21fbe5cf8b01ff0e069b9275f58929596ceb00d14d90e3e16cd6"
  },
  "language_info": {
   "codemirror_mode": {
    "name": "ipython",
    "version": 3
   },
   "file_extension": ".py",
   "mimetype": "text/x-python",
   "name": "python",
   "nbconvert_exporter": "python",
   "pygments_lexer": "ipython3",
   "version": "3.9.2"
  },
  "orig_nbformat": 2
 },
 "nbformat": 4,
 "nbformat_minor": 2
}